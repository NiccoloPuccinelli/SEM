{
 "cells": [
  {
   "cell_type": "code",
   "id": "initial_id",
   "metadata": {
    "collapsed": true,
    "ExecuteTime": {
     "end_time": "2024-07-05T11:52:47.600Z",
     "start_time": "2024-07-05T11:52:35.386501Z"
    }
   },
   "source": [
    "import pandas as pd\n",
    "import numpy as np\n",
    "import plotly.express as px\n",
    "import seaborn as sns\n",
    "import matplotlib.pyplot as plt\n",
    "import statsmodels.api as sm\n",
    "from scipy import stats\n",
    "import copy\n",
    "import pickle\n",
    "import os\n",
    "import itertools\n",
    "import glob\n",
    "from math import sqrt\n",
    "from scipy.ndimage import gaussian_filter1d\n",
    "\n",
    "import tensorflow as tf\n",
    "from tensorflow.keras.models import Model\n",
    "from tensorflow.keras.layers import Input, LSTM, RepeatVector\n",
    "from tensorflow.keras.layers import Dense, Flatten, Reshape, Dropout, TimeDistributed\n",
    "from tensorflow.keras.optimizers.legacy import Adam\n",
    "from tensorflow.keras.callbacks import EarlyStopping\n",
    "\n",
    "from sklearn.metrics import accuracy_score, precision_score, recall_score, mean_absolute_error, mean_squared_error, mean_absolute_percentage_error\n",
    "from sklearn.model_selection import train_test_split\n",
    "from sklearn.preprocessing import MinMaxScaler\n",
    "from sklearn.preprocessing import StandardScaler\n",
    "from sklearn.model_selection import ParameterSampler, TimeSeriesSplit\n",
    "\n",
    "seed = 123\n",
    "tf.keras.utils.set_random_seed(seed)"
   ],
   "outputs": [],
   "execution_count": 42
  },
  {
   "cell_type": "code",
   "source": [
    "%run utils.ipynb"
   ],
   "metadata": {
    "collapsed": false,
    "ExecuteTime": {
     "end_time": "2024-07-05T11:52:47.663687Z",
     "start_time": "2024-07-05T11:52:47.607755Z"
    }
   },
   "id": "c3276d6ca2d9d09d",
   "outputs": [],
   "execution_count": 43
  },
  {
   "cell_type": "code",
   "source": [
    "%run preprocessing.ipynb"
   ],
   "metadata": {
    "collapsed": false,
    "ExecuteTime": {
     "end_time": "2024-07-05T11:52:47.750690Z",
     "start_time": "2024-07-05T11:52:47.664414Z"
    }
   },
   "id": "bf7aeeca1663d92",
   "outputs": [],
   "execution_count": 44
  },
  {
   "cell_type": "code",
   "source": [
    "%run preparation.ipynb"
   ],
   "metadata": {
    "collapsed": false,
    "ExecuteTime": {
     "end_time": "2024-07-05T11:52:47.761435Z",
     "start_time": "2024-07-05T11:52:47.752338Z"
    }
   },
   "id": "d2d209f940fad000",
   "outputs": [],
   "execution_count": 45
  },
  {
   "cell_type": "code",
   "source": [
    "%run training_lstm.ipynb"
   ],
   "metadata": {
    "collapsed": false,
    "ExecuteTime": {
     "end_time": "2024-07-05T11:52:47.789827Z",
     "start_time": "2024-07-05T11:52:47.762269Z"
    }
   },
   "id": "d76ed7a782e545bc",
   "outputs": [],
   "execution_count": 46
  },
  {
   "metadata": {
    "ExecuteTime": {
     "end_time": "2024-07-05T11:52:47.811856Z",
     "start_time": "2024-07-05T11:52:47.790524Z"
    }
   },
   "cell_type": "code",
   "source": "%run training_dense.ipynb",
   "id": "b5bfacb3eaf141e0",
   "outputs": [],
   "execution_count": 47
  },
  {
   "cell_type": "code",
   "source": [
    "%run predict.ipynb"
   ],
   "metadata": {
    "collapsed": false,
    "ExecuteTime": {
     "end_time": "2024-07-05T11:52:47.824807Z",
     "start_time": "2024-07-05T11:52:47.812894Z"
    }
   },
   "id": "d105ae8cb14be939",
   "outputs": [],
   "execution_count": 48
  },
  {
   "cell_type": "markdown",
   "source": [
    "# Loading data"
   ],
   "metadata": {
    "collapsed": false
   },
   "id": "b94889c11cf4d982"
  },
  {
   "metadata": {
    "ExecuteTime": {
     "end_time": "2024-07-05T11:52:47.827976Z",
     "start_time": "2024-07-05T11:52:47.825514Z"
    }
   },
   "cell_type": "code",
   "source": "model_name = 'dense'",
   "id": "f1e0b63f7a2fd90f",
   "outputs": [],
   "execution_count": 49
  },
  {
   "cell_type": "code",
   "source": [
    "data_path = 'datasets/raw/sf_normal_final_indicators_93600.csv'\n",
    "df = pd.read_csv(data_path)\n",
    "df = df.drop('timestamp', axis = 1)\n",
    "number_of_features = len(df.columns)"
   ],
   "metadata": {
    "collapsed": false,
    "ExecuteTime": {
     "end_time": "2024-07-05T11:52:48.144524Z",
     "start_time": "2024-07-05T11:52:47.828728Z"
    }
   },
   "id": "45dc6db3638695cc",
   "outputs": [],
   "execution_count": 50
  },
  {
   "cell_type": "markdown",
   "source": [
    "# Preprocessing"
   ],
   "metadata": {
    "collapsed": false
   },
   "id": "3fab3ed5577fa5e2"
  },
  {
   "metadata": {
    "ExecuteTime": {
     "end_time": "2024-07-05T11:52:48.148125Z",
     "start_time": "2024-07-05T11:52:48.146548Z"
    }
   },
   "cell_type": "code",
   "source": [
    "if model_name == 'lstm':\n",
    "    diff = 1\n",
    "else:\n",
    "    diff = 0"
   ],
   "id": "5bb7a123ee9a5053",
   "outputs": [],
   "execution_count": 51
  },
  {
   "metadata": {
    "ExecuteTime": {
     "end_time": "2024-07-05T11:52:48.328456Z",
     "start_time": "2024-07-05T11:52:48.148700Z"
    }
   },
   "cell_type": "code",
   "source": [
    "params = [\n",
    "    [], # columns to drop\n",
    "    False, # ratio\n",
    "    False, # smoothing\n",
    "    False, # collinearity\n",
    "    False, # log\n",
    "    300, # aggregation\n",
    "    False, # statistics\n",
    "    diff, # differencing\n",
    "    False, # seasonality\n",
    "    True # normalize\n",
    "]\n",
    "\n",
    "df_ = copy.deepcopy(df)\n",
    "\n",
    "df_proc, scaler = preprocessing(df_,\n",
    "                        columns_to_remove = params[0],\n",
    "                        ratio = params[1],\n",
    "                        smoothing = params[2],\n",
    "                        collinearity = params[3],\n",
    "                        log = params[4],\n",
    "                        aggregation = params[5],\n",
    "                        statistics = params[6],\n",
    "                        differencing = params[7],\n",
    "                        seasonality = params[8],\n",
    "                        normalize = params[9],\n",
    "                        load_scaler = False,\n",
    "                        save = False)\n",
    "\n",
    "scaler_path = f\"df_{params[0]}_{params[1]}_{params[2]}_{params[3]}_{params[4]}_{params[5]}_{params[6]}_{params[7]}_{params[8]}_{params[9]}_scaler.pkl\""
   ],
   "id": "7040ca1d63589888",
   "outputs": [
    {
     "name": "stdout",
     "output_type": "stream",
     "text": [
      "(86400, 39)\n"
     ]
    }
   ],
   "execution_count": 52
  },
  {
   "cell_type": "markdown",
   "source": [
    "# Cross-Validation"
   ],
   "metadata": {
    "collapsed": false
   },
   "id": "47671be73e17919c"
  },
  {
   "cell_type": "code",
   "source": [
    "# Define the hyperparameter search space\n",
    "param_grid = {\n",
    "    'n_layers_encoder': [1, 2],\n",
    "    'n_layers_decoder': [1, 2],\n",
    "    'hidden_units': [[128, 64, 64, 128], [64, 32, 32, 64], [128, 64, 32, 32, 64, 128], [64, 32, 16, 16, 32, 64]],\n",
    "    'activation_hidden': ['relu', 'tanh'],\n",
    "    'activation_dense': ['sigmoid', 'relu'],\n",
    "    'dropout_rate': [0, 0.2, 0.4],\n",
    "    'learning_rate': [0.001, 0.0001],\n",
    "    'batch_size': [16, 32, 64]\n",
    "}"
   ],
   "metadata": {
    "collapsed": false,
    "ExecuteTime": {
     "end_time": "2024-07-05T11:52:48.727385Z",
     "start_time": "2024-07-05T11:52:48.724966Z"
    }
   },
   "id": "49eb237b2b375b25",
   "outputs": [],
   "execution_count": 53
  },
  {
   "cell_type": "code",
   "source": [
    "def rolling_cross_validation(df, initial_train_size, horizon, window_size, param_grid, model_name, n_iter = 50):\n",
    "    results = {}\n",
    "    fold_number = 0\n",
    "    max_possible_index = len(df) - horizon + 1\n",
    "    \n",
    "    for start_index in range(initial_train_size, max_possible_index, horizon):\n",
    "        fold_scores = []\n",
    "        train = df.iloc[:start_index]\n",
    "        val = df.iloc[start_index:start_index + horizon]\n",
    "        if model_name == 'lstm':\n",
    "            train_set = create_sequences(train, window_size, 0)\n",
    "            val_set = create_sequences(val, window_size, 0)\n",
    "        else:\n",
    "            train_set = train\n",
    "            val_set = val\n",
    "        \n",
    "        print(f\"Train period: 0 to {start_index}, Test period: {start_index} to {start_index + horizon}\")\n",
    "              \n",
    "        for params in ParameterSampler(param_grid, n_iter):\n",
    "            if (params['n_layers_encoder'] == 1 and params['n_layers_decoder'] == 1 and len(params['hidden_units']) == 4) or (params['n_layers_encoder'] == 2 and params['n_layers_decoder'] == 2 and len(params['hidden_units']) == 6):\n",
    "                if model_name == 'lstm':\n",
    "                    history, model = training_lstm(train_set,\n",
    "                                           val_set,\n",
    "                                           n_layers_encoder = params['n_layers_encoder'],\n",
    "                                           n_layers_decoder = params['n_layers_decoder'],\n",
    "                                           hidden_units = params['hidden_units'],\n",
    "                                           activation_hidden = params['activation_hidden'],\n",
    "                                           activation_dense = params['activation_dense'],\n",
    "                                           dropout_rate = params['dropout_rate'],\n",
    "                                           learning_rate = params['learning_rate'],\n",
    "                                           n_epochs = 500,\n",
    "                                           metric = 'mae',\n",
    "                                           batch_size = params['batch_size'],\n",
    "                                           window_size = window_size,\n",
    "                                           plot = False,\n",
    "                                           save = False)\n",
    "                    fold_scores.append((params, np.min(history.history['val_loss'])))\n",
    "                else:\n",
    "                    history, model = training_dense(train_set,\n",
    "                                           val_set,\n",
    "                                           n_layers_encoder = params['n_layers_encoder'],\n",
    "                                           n_layers_decoder = params['n_layers_decoder'],\n",
    "                                           hidden_units = params['hidden_units'],\n",
    "                                           activation_hidden = params['activation_hidden'],\n",
    "                                           activation_dense = params['activation_dense'],\n",
    "                                           dropout_rate = params['dropout_rate'],\n",
    "                                           learning_rate = params['learning_rate'],\n",
    "                                           n_epochs = 500,\n",
    "                                           metric = 'mae',\n",
    "                                           batch_size = params['batch_size'],\n",
    "                                           plot = False,\n",
    "                                           save = False)\n",
    "                    fold_scores.append((params, np.min(history.history['val_loss'])))\n",
    "        \n",
    "        top_scores = sorted(fold_scores, key = lambda x: x[1])[:10]\n",
    "        results[f\"Top 10 scores on fold {fold_number + 1}\"] = [\"{}: {:.4f}\".format(str(params), score) for params, score in top_scores]\n",
    "        fold_number += 1\n",
    "        \n",
    "    results_df = pd.DataFrame(dict([(k, pd.Series(v)) for k, v in results.items()]))\n",
    "    results_df.to_csv('cross_validation/model_performance_w_size_' + str(window_size) + '.csv', index=False)\n",
    "    print('Results saved to model_performance_w_size_' + str(window_size) + '.csv')"
   ],
   "metadata": {
    "collapsed": false,
    "ExecuteTime": {
     "end_time": "2024-07-05T11:52:56.900590Z",
     "start_time": "2024-07-05T11:52:56.890852Z"
    }
   },
   "id": "a94dff234a160fa0",
   "outputs": [],
   "execution_count": 54
  },
  {
   "cell_type": "code",
   "source": [
    "if model_name == 'lstm':\n",
    "    window_size = [10, 20, 50, 100]\n",
    "    for window in window_size:\n",
    "        rolling_cross_validation(df_proc, 36000, 12600, window, param_grid, model_name, n_iter = 50)\n",
    "else:\n",
    "    window = 0\n",
    "    rolling_cross_validation(df_proc, 36000, 12600, window, param_grid, model_name, n_iter = 50)"
   ],
   "metadata": {
    "collapsed": false
   },
   "id": "2928b1a9a24df58",
   "outputs": [],
   "execution_count": null
  },
  {
   "cell_type": "markdown",
   "source": [
    "# CV image"
   ],
   "metadata": {
    "collapsed": false
   },
   "id": "265ba7471dffece4"
  },
  {
   "cell_type": "code",
   "outputs": [
    {
     "data": {
      "text/plain": "<Figure size 1000x600 with 1 Axes>",
      "image/png": "[encoded data removed]"
     },
     "metadata": {},
     "output_type": "display_data"
    }
   ],
   "source": [
    "fig, ax = plt.subplots(figsize = (10, 6))\n",
    "\n",
    "ax.add_patch(plt.Rectangle((0, 4 - 0.1), 36000, 0.2, facecolor = 'green', edgecolor = 'black', linewidth = 0.75, label = 'Training'))\n",
    "ax.add_patch(plt.Rectangle((36000, 4 - 0.1), 12600, 0.2, facecolor = 'orange', edgecolor = 'black', linewidth = 0.75, label = 'Validation'))\n",
    "ax.add_patch(plt.Rectangle((0, 3 - 0.1), 48600, 0.2, facecolor = 'green', edgecolor = 'black', linewidth = 0.75, label = 'Training'))\n",
    "ax.add_patch(plt.Rectangle((48600, 3 - 0.1), 12600, 0.2, facecolor = 'orange', edgecolor = 'black', linewidth = 0.75, label = 'Validation'))\n",
    "ax.add_patch(plt.Rectangle((0, 2 - 0.1), 61200, 0.2, facecolor = 'green', edgecolor = 'black', linewidth = 0.75, label = 'Training'))\n",
    "ax.add_patch(plt.Rectangle((61200, 2 - 0.1), 12600, 0.2, facecolor = 'orange', edgecolor = 'black', linewidth = 0.75, label = 'Validation'))\n",
    "ax.add_patch(plt.Rectangle((0, 1 - 0.1), 73800, 0.2, facecolor = 'green', edgecolor = 'black', linewidth = 0.75, label = 'Training'))\n",
    "ax.add_patch(plt.Rectangle((73800, 1 - 0.1), 12600, 0.2, facecolor = 'orange', edgecolor = 'black', linewidth = 0.75, label = 'Validation'))\n",
    "\n",
    "ax.set_yticks(np.arange(1, 5))\n",
    "ax.set_yticklabels([\"4\", \"3\", \"2\", \"1\"])\n",
    "ax.set_xlabel(\"Timestamp\")\n",
    "ax.set_ylabel(\"CV Folds\")\n",
    "ax.set_title(\"Time-series 4-folds CV\")\n",
    "ax.set_xlim(-5000, 91400)  # Adding some space by adjusting limits beyond the data range\n",
    "ax.set_ylim(0.5, 4.5)\n",
    "plt.legend(handles = [plt.Rectangle((0,0),1,1, color = c, ec = \"k\") for c in ['green', 'orange']], labels = ['Training', 'Validation'])\n",
    "plt.tight_layout()\n",
    "\n",
    "adjusted_plot_path = 'cross_validation/time_series_cv.png'\n",
    "plt.savefig(adjusted_plot_path, dpi = 300)\n",
    "plt.show()"
   ],
   "metadata": {
    "collapsed": false,
    "ExecuteTime": {
     "end_time": "2024-04-11T09:22:51.245164Z",
     "start_time": "2024-04-11T09:22:50.905263Z"
    }
   },
   "id": "b6e2207b27b41c4b",
   "execution_count": 108
  },
  {
   "cell_type": "code",
   "outputs": [],
   "source": [],
   "metadata": {
    "collapsed": false
   },
   "id": "f6e331dfc984bd8d",
   "execution_count": null
  }
 ],
 "metadata": {
  "kernelspec": {
   "display_name": "Python 3",
   "language": "python",
   "name": "python3"
  },
  "language_info": {
   "codemirror_mode": {
    "name": "ipython",
    "version": 2
   },
   "file_extension": ".py",
   "mimetype": "text/x-python",
   "name": "python",
   "nbconvert_exporter": "python",
   "pygments_lexer": "ipython2",
   "version": "2.7.6"
  }
 },
 "nbformat": 4,
 "nbformat_minor": 5
}
