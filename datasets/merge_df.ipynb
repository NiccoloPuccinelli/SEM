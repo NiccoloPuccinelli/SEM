{
 "cells": [
  {
   "cell_type": "code",
   "execution_count": 2,
   "id": "initial_id",
   "metadata": {
    "collapsed": true,
    "ExecuteTime": {
     "end_time": "2024-03-05T19:44:32.989825Z",
     "start_time": "2024-03-05T19:44:32.984011Z"
    }
   },
   "outputs": [],
   "source": [
    "import pandas as pd"
   ]
  },
  {
   "cell_type": "code",
   "outputs": [],
   "source": [
    "df1 = pd.read_csv('raw/sf_normal_final_indicators_58800_1.csv')\n",
    "df2 = pd.read_csv('raw/sf_normal_final_indicators_58800_2.csv')\n",
    "\n",
    "merged_df = pd.concat([df1, df2], axis=0)\n",
    "merged_df.reset_index(drop=True, inplace=True)\n",
    "\n",
    "merged_df.to_csv('raw/sf_normal_final_indicators_79200.csv', index=False)"
   ],
   "metadata": {
    "collapsed": false,
    "ExecuteTime": {
     "end_time": "2024-03-05T19:44:35.910746Z",
     "start_time": "2024-03-05T19:44:33.312569Z"
    }
   },
   "id": "9ad911b0d522c119",
   "execution_count": 3
  },
  {
   "cell_type": "code",
   "outputs": [],
   "source": [],
   "metadata": {
    "collapsed": false
   },
   "id": "3de1ffc0ac2ddbf5"
  }
 ],
 "metadata": {
  "kernelspec": {
   "display_name": "Python 3",
   "language": "python",
   "name": "python3"
  },
  "language_info": {
   "codemirror_mode": {
    "name": "ipython",
    "version": 2
   },
   "file_extension": ".py",
   "mimetype": "text/x-python",
   "name": "python",
   "nbconvert_exporter": "python",
   "pygments_lexer": "ipython2",
   "version": "2.7.6"
  }
 },
 "nbformat": 4,
 "nbformat_minor": 5
}
