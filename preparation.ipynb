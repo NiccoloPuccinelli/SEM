{
 "cells": [
  {
   "cell_type": "code",
   "execution_count": 1,
   "id": "initial_id",
   "metadata": {
    "collapsed": true,
    "ExecuteTime": {
     "end_time": "2024-01-31T13:55:30.348428Z",
     "start_time": "2024-01-31T13:55:30.346276Z"
    }
   },
   "outputs": [],
   "source": [
    "import copy\n",
    "import os\n",
    "import numpy as np\n",
    "import pandas as pd\n",
    "import csv\n",
    "import matplotlib.pyplot as plt\n",
    "from scipy import stats\n",
    "import pickle\n",
    "\n",
    "seed = 123"
   ]
  },
  {
   "cell_type": "code",
   "outputs": [],
   "source": [
    "%run utils.ipynb"
   ],
   "metadata": {
    "collapsed": false,
    "ExecuteTime": {
     "end_time": "2024-01-31T13:55:30.398237Z",
     "start_time": "2024-01-31T13:55:30.351341Z"
    }
   },
   "id": "601d6e1fae9ad1ab",
   "execution_count": 2
  },
  {
   "cell_type": "code",
   "outputs": [],
   "source": [
    "def preparation(df,\n",
    "                window_size = 20,\n",
    "                overlap = 0,\n",
    "                val_hours = 1.5):\n",
    "    \n",
    "    if val_hours == 0:\n",
    "        train_set = df\n",
    "    else:\n",
    "        end_train = round(val_hours*3600)\n",
    "        train_set = df[:-end_train]\n",
    "        val_set = df[-end_train:]\n",
    "\n",
    "    if window_size != 0:\n",
    "        train_set = create_sequences(train_set, window_size, overlap)\n",
    "        if val_hours != 0:\n",
    "            val_set = create_sequences(val_set, window_size, overlap)\n",
    "\n",
    "    print(train_set.shape)\n",
    "    if val_hours != 0:\n",
    "        print(val_set.shape)\n",
    "        return train_set, val_set\n",
    "    \n",
    "    else:\n",
    "        return train_set"
   ],
   "metadata": {
    "collapsed": false,
    "ExecuteTime": {
     "end_time": "2024-01-31T13:55:30.401979Z",
     "start_time": "2024-01-31T13:55:30.399485Z"
    }
   },
   "id": "7610ac05f898adee",
   "execution_count": 3
  }
 ],
 "metadata": {
  "kernelspec": {
   "display_name": "Python 3",
   "language": "python",
   "name": "python3"
  },
  "language_info": {
   "codemirror_mode": {
    "name": "ipython",
    "version": 2
   },
   "file_extension": ".py",
   "mimetype": "text/x-python",
   "name": "python",
   "nbconvert_exporter": "python",
   "pygments_lexer": "ipython2",
   "version": "2.7.6"
  }
 },
 "nbformat": 4,
 "nbformat_minor": 5
}
