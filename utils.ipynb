{
 "cells": [
  {
   "cell_type": "code",
   "execution_count": null,
   "id": "2c2e6232c9932a39",
   "metadata": {},
   "outputs": [],
   "source": [
    "import numpy as np"
   ]
  },
  {
   "cell_type": "code",
   "execution_count": null,
   "id": "initial_id",
   "metadata": {
    "collapsed": true
   },
   "outputs": [],
   "source": [
    "def normalization(scaler_, df_):\n",
    "    data_array = df_.values\n",
    "    data_array = data_array.astype(float)\n",
    "    \n",
    "    data_array_normalized = scaler_.transform(data_array)\n",
    "    df_normalized = pd.DataFrame(data_array_normalized, columns = list(df_.columns))\n",
    "    \n",
    "    return df_normalized"
   ]
  },
  {
   "cell_type": "code",
   "execution_count": null,
   "id": "3133acaaf4aa69d7",
   "metadata": {
    "collapsed": false
   },
   "outputs": [],
   "source": [
    "def create_sequences(df, window_size, n_overlap):\n",
    "    n_rows = len(df)\n",
    "    if n_overlap == 0:\n",
    "        n_chunks = n_rows // window_size\n",
    "        return np.array([df.iloc[i * window_size:(i + 1) * window_size].values for i in range(n_chunks)])\n",
    "    else:\n",
    "        overlap = window_size - n_overlap \n",
    "        sequences = []\n",
    "        for start in range(0, n_rows - window_size + 1, overlap):\n",
    "            end = start + window_size\n",
    "            sequence = df.iloc[start:end].values\n",
    "            sequences.append(sequence)\n",
    "        return np.array(sequences)"
   ]
  },
  {
   "cell_type": "code",
   "execution_count": null,
   "id": "34a757f146e6127f",
   "metadata": {
    "collapsed": false
   },
   "outputs": [],
   "source": [
    "def calc_kurtosis(x):\n",
    "    value = stats.kurtosis(x, fisher = True, bias = False) \n",
    "    if pd.isna(value):\n",
    "        return 0.0\n",
    "    else:\n",
    "        return value"
   ]
  },
  {
   "cell_type": "code",
   "execution_count": null,
   "id": "fc83c7274172b4ce",
   "metadata": {
    "collapsed": false
   },
   "outputs": [],
   "source": [
    "def calc_skewness(x):\n",
    "    value = stats.skew(x, bias = False) \n",
    "    if pd.isna(value):\n",
    "        return 0.0\n",
    "    else:\n",
    "        return value"
   ]
  },
  {
   "cell_type": "code",
   "execution_count": null,
   "id": "8ac2f9ece9bebe1a",
   "metadata": {
    "collapsed": false
   },
   "outputs": [],
   "source": [
    "def custom_mape(orig, reconstr):\n",
    "    # Compute MAPE trying to avoid division by 0 (or too small factors)\n",
    "    y_true, y_pred = np.array(orig), np.array(reconstr)\n",
    "    y_true_adjusted = np.where(abs(y_true) <= 0.0001, y_true + 0.01, y_true)\n",
    "    y_pred_adjusted = np.where(abs(y_true) <= 0.0001, y_pred + 0.01, y_pred)\n",
    "    return np.mean(np.abs((y_true_adjusted - y_pred_adjusted) / y_true_adjusted))"
   ]
  },
  {
   "cell_type": "code",
   "execution_count": null,
   "id": "5030a5865dd1469e",
   "metadata": {
    "collapsed": false
   },
   "outputs": [],
   "source": [
    "def compute_failed_requests(rides_not_served, rides_requested, factor, a, b, c):\n",
    "    failed = (rides_not_served / rides_requested)\n",
    "    #weight = min(1, (1/factor)*rides_requested)\n",
    "    weight = min(1, a*np.log(rides_requested+b)+c)\n",
    "    w_failed = failed * weight\n",
    "    return failed, w_failed"
   ]
  },
  {
   "cell_type": "code",
   "execution_count": null,
   "id": "fc35bad8156c49f9",
   "metadata": {},
   "outputs": [],
   "source": [
    "def compute_failed_requests_ratio(rides_not_served, rides_requested, rides_accepted, factor, a, b, c):\n",
    "    failed = (rides_not_served / rides_accepted)\n",
    "    #weight = min(1, (1/factor)*rides_requested)\n",
    "    weight = min(1, a*np.log(rides_requested+b)+c)\n",
    "    w_failed = failed * weight\n",
    "    return failed, w_failed"
   ]
  },
  {
   "cell_type": "code",
   "execution_count": null,
   "id": "d30e68c4798eb5f0",
   "metadata": {
    "collapsed": false
   },
   "outputs": [],
   "source": [
    "def compute_service_overhead(total_time, expected_total_time):\n",
    "    service = (total_time - expected_total_time) / expected_total_time\n",
    "    return service"
   ]
  },
  {
   "cell_type": "code",
   "execution_count": 1,
   "id": "ae27ceee5a6c9668",
   "metadata": {
    "collapsed": false
   },
   "outputs": [],
   "source": [
    "'''\n",
    "def compute_cost_distortion(real_price, expected_price):\n",
    "    cost = abs(real_price - expected_price) / expected_price\n",
    "    return cost\n",
    "'''\n",
    "def compute_cost_distortion(real_price, actual_price):\n",
    "    try:\n",
    "        cost = abs(actual_price - real_price) / real_price\n",
    "    except:\n",
    "        cost = 0\n",
    "    return cost"
   ]
  },
  {
   "cell_type": "code",
   "execution_count": null,
   "id": "c158360fab9c0742",
   "metadata": {},
   "outputs": [],
   "source": [
    "def compute_thresholds(failed_req, weight = True):\n",
    "    if weight:\n",
    "        return np.percentile(failed_req, 95), np.percentile(failed_req, 97), np.percentile(failed_req, 99)\n",
    "    else:\n",
    "        return np.percentile(failed_req, 95), np.percentile(failed_req, 97), np.percentile(failed_req, 99)"
   ]
  },
  {
   "cell_type": "code",
   "execution_count": null,
   "id": "65ce6e49a662301e",
   "metadata": {},
   "outputs": [],
   "source": [
    "def compute_failure(mean_error, threshold, detect_time, confidence):\n",
    "    for start in range(0, len(mean_error)):\n",
    "        if start + detect_time < len(mean_error):\n",
    "            window = mean_error[start:start + detect_time]\n",
    "        else:\n",
    "            window = mean_error[start:]\n",
    "        timestamps_above = np.sum(window > threshold)\n",
    "        if timestamps_above / detect_time >= confidence:\n",
    "            i = window.index[0]\n",
    "            while i < window.index[len(window) - 1]:\n",
    "                if window[i] > threshold:\n",
    "                    return i + detect_time\n",
    "                else:\n",
    "                    i += 1"
   ]
  },
  {
   "cell_type": "code",
   "execution_count": 1,
   "id": "f76dd1a327768b98",
   "metadata": {
    "ExecuteTime": {
     "end_time": "2024-07-26T11:37:15.693885Z",
     "start_time": "2024-07-26T11:37:15.691760Z"
    }
   },
   "outputs": [],
   "source": [
    "def exceed_thresholds(failed_req, threshold_dict, window_size, condition, perc_95, perc_97, perc_99):\n",
    "    found_95 = False\n",
    "    found_97 = False\n",
    "    found_99 = False\n",
    "    for start in range(0, len(failed_req)):\n",
    "        if start + window_size < len(failed_req):\n",
    "            window = failed_req[start:start + window_size]\n",
    "        else:\n",
    "            window = failed_req[start:]\n",
    "        if not found_95:\n",
    "            perc_95_above = np.sum(window > perc_95)\n",
    "            if perc_95_above / window_size >= condition:\n",
    "                i = window.index[0]\n",
    "                while i < window.index[len(window) - 1] and not found_95:\n",
    "                    if window[i] > perc_95:\n",
    "                        found_95 = True\n",
    "                        threshold_dict['perc_95'] = i + window_size\n",
    "                    else:\n",
    "                        i += 1\n",
    "        if not found_97:\n",
    "            perc_97_above = np.sum(window > perc_97)\n",
    "            if perc_97_above / window_size >= condition:\n",
    "                i = window.index[0]\n",
    "                while i < window.index[len(window) - 1] and not found_97:\n",
    "                    if window[i] > perc_97:\n",
    "                        found_97 = True\n",
    "                        threshold_dict['perc_97'] = i + window_size\n",
    "                    else:\n",
    "                        i += 1\n",
    "        if not found_99:\n",
    "            perc_99_above = np.sum(window > perc_99)\n",
    "            if perc_99_above / window_size >= condition:\n",
    "                i = window.index[0]\n",
    "                while i < window.index[len(window) - 1] and not found_99:\n",
    "                    if window[i] > perc_99:\n",
    "                        found_99 = True\n",
    "                        threshold_dict['perc_99'] = i + window_size\n",
    "                    else:\n",
    "                        i += 1\n",
    "    return threshold_dict"
   ]
  }
 ],
 "metadata": {
  "kernelspec": {
   "display_name": "Python 3",
   "language": "python",
   "name": "python3"
  },
  "language_info": {
   "codemirror_mode": {
    "name": "ipython",
    "version": 2
   },
   "file_extension": ".py",
   "mimetype": "text/x-python",
   "name": "python",
   "nbconvert_exporter": "python",
   "pygments_lexer": "ipython2",
   "version": "2.7.6"
  }
 },
 "nbformat": 4,
 "nbformat_minor": 5
}
