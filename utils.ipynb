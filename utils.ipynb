{
 "cells": [
  {
   "cell_type": "code",
   "execution_count": null,
   "id": "initial_id",
   "metadata": {
    "collapsed": true
   },
   "outputs": [],
   "source": [
    "def normalization(scaler_, df_):\n",
    "    data_array = df_.values\n",
    "    data_array = data_array.astype(float)\n",
    "    \n",
    "    print(np.shape(data_array))\n",
    "\n",
    "    data_array_normalized = scaler_.transform(data_array)\n",
    "    df_normalized = pd.DataFrame(data_array_normalized, columns = list(df_.columns))\n",
    "    \n",
    "    return df_normalized"
   ]
  },
  {
   "cell_type": "code",
   "outputs": [],
   "source": [
    "def create_sequences(df, window_size, n_overlap):\n",
    "    n_rows = len(df)\n",
    "    if n_overlap == 0:\n",
    "        n_chunks = n_rows // window_size\n",
    "        return np.array([df.iloc[i * window_size:(i + 1) * window_size].values for i in range(n_chunks)])\n",
    "    else:\n",
    "        overlap = window_size - n_overlap \n",
    "        sequences = []\n",
    "        for start in range(0, n_rows - window_size + 1, overlap):\n",
    "            end = start + window_size\n",
    "            sequence = df.iloc[start:end].values\n",
    "            sequences.append(sequence)\n",
    "        return np.array(sequences)"
   ],
   "metadata": {
    "collapsed": false
   },
   "id": "3133acaaf4aa69d7"
  },
  {
   "cell_type": "code",
   "outputs": [],
   "source": [
    "def calc_kurtosis(x):\n",
    "    value = stats.kurtosis(x, fisher = True, bias = False) \n",
    "    if pd.isna(value):\n",
    "        return 0.0\n",
    "    else:\n",
    "        return value"
   ],
   "metadata": {
    "collapsed": false
   },
   "id": "34a757f146e6127f"
  },
  {
   "cell_type": "code",
   "outputs": [],
   "source": [
    "def calc_skewness(x):\n",
    "    value = stats.skew(x, bias = False) \n",
    "    if pd.isna(value):\n",
    "        return 0.0\n",
    "    else:\n",
    "        return value"
   ],
   "metadata": {
    "collapsed": false
   },
   "id": "fc83c7274172b4ce"
  },
  {
   "cell_type": "code",
   "outputs": [],
   "source": [
    "def custom_mape(orig, reconstr):\n",
    "    # Compute MAPE trying to avoid division by 0 (or too small factors)\n",
    "    y_true, y_pred = np.array(orig), np.array(reconstr)\n",
    "    y_true_adjusted = np.where(abs(y_true) <= 0.0001, y_true + 0.01, y_true)\n",
    "    y_pred_adjusted = np.where(abs(y_true) <= 0.0001, y_pred + 0.01, y_pred)\n",
    "    return np.mean(np.abs((y_true_adjusted - y_pred_adjusted) / y_true_adjusted))"
   ],
   "metadata": {
    "collapsed": false
   },
   "id": "8ac2f9ece9bebe1a"
  },
  {
   "cell_type": "code",
   "outputs": [],
   "source": [
    "def compute_failed_requests(rides_not_served, rides_requested, factor):\n",
    "    failed = rides_not_served / rides_requested\n",
    "    weight = min(1, (np.exp(5*rides_requested) - 1) / (np.exp(5*factor) - 1))\n",
    "    w_failed = failed * weight\n",
    "    return failed, w_failed"
   ],
   "metadata": {
    "collapsed": false
   },
   "id": "5030a5865dd1469e"
  },
  {
   "cell_type": "code",
   "outputs": [],
   "source": [
    "def compute_service_overhead(total_time, expected_total_time):\n",
    "    service = (total_time - expected_total_time) / expected_total_time\n",
    "    return service"
   ],
   "metadata": {
    "collapsed": false
   },
   "id": "d30e68c4798eb5f0"
  },
  {
   "cell_type": "code",
   "outputs": [],
   "source": [
    "'''\n",
    "def compute_cost_distortion(real_price, expected_price):\n",
    "    cost = abs(real_price - expected_price) / expected_price\n",
    "    return cost\n",
    "'''\n",
    "def compute_cost_distortion(real_price, actual_price):\n",
    "    try:\n",
    "        cost = abs(actual_price - real_price) / real_price\n",
    "    except:\n",
    "        cost = 0\n",
    "    return cost"
   ],
   "metadata": {
    "collapsed": false
   },
   "id": "ae27ceee5a6c9668",
   "execution_count": 1
  }
 ],
 "metadata": {
  "kernelspec": {
   "display_name": "Python 3",
   "language": "python",
   "name": "python3"
  },
  "language_info": {
   "codemirror_mode": {
    "name": "ipython",
    "version": 2
   },
   "file_extension": ".py",
   "mimetype": "text/x-python",
   "name": "python",
   "nbconvert_exporter": "python",
   "pygments_lexer": "ipython2",
   "version": "2.7.6"
  }
 },
 "nbformat": 4,
 "nbformat_minor": 5
}
