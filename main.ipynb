{
 "cells": [
  {
   "cell_type": "markdown",
   "source": [
    "# Preliminary operations"
   ],
   "metadata": {
    "collapsed": false
   },
   "id": "2b0b428d58275877"
  },
  {
   "cell_type": "code",
   "execution_count": 1375,
   "id": "initial_id",
   "metadata": {
    "collapsed": true,
    "ExecuteTime": {
     "end_time": "2024-04-11T09:41:56.958232Z",
     "start_time": "2024-04-11T09:41:56.950464Z"
    }
   },
   "outputs": [],
   "source": [
    "import pandas as pd\n",
    "import numpy as np\n",
    "import copy\n",
    "import pickle\n",
    "import os\n",
    "import itertools\n",
    "import plotly.express as px\n",
    "import seaborn as sns\n",
    "import matplotlib.pyplot as plt\n",
    "import statsmodels.api as sm\n",
    "from scipy import stats\n",
    "from math import sqrt\n",
    "from scipy.ndimage import gaussian_filter1d\n",
    "\n",
    "import tensorflow as tf\n",
    "from tensorflow.keras.models import Model\n",
    "from tensorflow.keras.layers import Input, LSTM, RepeatVector\n",
    "from tensorflow.keras.layers import Dense, Flatten, Reshape, Dropout, TimeDistributed\n",
    "from tensorflow.keras.optimizers.legacy import Adam\n",
    "from tensorflow.keras.callbacks import EarlyStopping\n",
    "\n",
    "from sklearn.metrics import accuracy_score, precision_score, recall_score, mean_absolute_error, mean_squared_error, mean_absolute_percentage_error\n",
    "from sklearn.model_selection import train_test_split\n",
    "from sklearn.preprocessing import MinMaxScaler\n",
    "from sklearn.preprocessing import StandardScaler\n",
    "\n",
    "seed = 123\n",
    "tf.keras.utils.set_random_seed(seed)"
   ]
  },
  {
   "cell_type": "code",
   "outputs": [],
   "source": [
    "%run utils.ipynb"
   ],
   "metadata": {
    "collapsed": false,
    "ExecuteTime": {
     "end_time": "2024-04-11T09:41:57.091935Z",
     "start_time": "2024-04-11T09:41:57.086416Z"
    }
   },
   "id": "df52c033f3a2532b",
   "execution_count": 1376
  },
  {
   "cell_type": "code",
   "outputs": [],
   "source": [
    "%run preprocessing.ipynb"
   ],
   "metadata": {
    "collapsed": false,
    "ExecuteTime": {
     "end_time": "2024-04-11T09:41:57.253353Z",
     "start_time": "2024-04-11T09:41:57.240502Z"
    }
   },
   "id": "5d34cd23651a7a41",
   "execution_count": 1377
  },
  {
   "cell_type": "code",
   "outputs": [],
   "source": [
    "%run preparation.ipynb"
   ],
   "metadata": {
    "collapsed": false,
    "ExecuteTime": {
     "end_time": "2024-04-11T09:41:57.392286Z",
     "start_time": "2024-04-11T09:41:57.385402Z"
    }
   },
   "id": "69f2c17e545821e7",
   "execution_count": 1378
  },
  {
   "cell_type": "code",
   "outputs": [],
   "source": [
    "%run training_lstm.ipynb"
   ],
   "metadata": {
    "collapsed": false,
    "ExecuteTime": {
     "end_time": "2024-04-11T09:41:57.541683Z",
     "start_time": "2024-04-11T09:41:57.531094Z"
    }
   },
   "id": "12177740fc221b40",
   "execution_count": 1379
  },
  {
   "cell_type": "code",
   "outputs": [],
   "source": [
    "%run predict.ipynb"
   ],
   "metadata": {
    "collapsed": false,
    "ExecuteTime": {
     "end_time": "2024-04-11T09:41:57.688678Z",
     "start_time": "2024-04-11T09:41:57.679201Z"
    }
   },
   "id": "1908f6ec36df1358",
   "execution_count": 1380
  },
  {
   "cell_type": "code",
   "outputs": [],
   "source": [
    "fail = 'flash_mob'\n",
    "hour = 'peak'\n",
    "to_train = False"
   ],
   "metadata": {
    "collapsed": false,
    "ExecuteTime": {
     "end_time": "2024-04-11T09:41:57.807397Z",
     "start_time": "2024-04-11T09:41:57.805788Z"
    }
   },
   "id": "50759e26352f450a",
   "execution_count": 1381
  },
  {
   "cell_type": "markdown",
   "source": [
    "# Loading data"
   ],
   "metadata": {
    "collapsed": false
   },
   "id": "34cfd1db800a5661"
  },
  {
   "cell_type": "code",
   "outputs": [],
   "source": [
    "data_path = 'datasets/raw/sf_normal_final_indicators_93600.csv'\n",
    "df = pd.read_csv(data_path)\n",
    "df = df.drop('timestamp', axis = 1)\n",
    "number_of_features = len(df.columns)"
   ],
   "metadata": {
    "collapsed": false,
    "ExecuteTime": {
     "end_time": "2024-04-11T09:41:58.281713Z",
     "start_time": "2024-04-11T09:41:58.082141Z"
    }
   },
   "id": "f7b9c4e207057e40",
   "execution_count": 1382
  },
  {
   "cell_type": "code",
   "outputs": [],
   "source": [
    "if hour == 'day':\n",
    "    data_path_fail = 'datasets/raw/sf_' + fail + '_final_indicators_14400_day.csv'\n",
    "elif hour == 'night':\n",
    "    data_path_fail = 'datasets/raw/sf_' + fail + '_final_indicators_14400_night.csv'\n",
    "else:\n",
    "    data_path_fail = 'datasets/raw/sf_' + fail + '_final_indicators_14400.csv'\n",
    "df_fail = pd.read_csv(data_path_fail)\n",
    "df_fail = df_fail.drop('timestamp', axis = 1)"
   ],
   "metadata": {
    "collapsed": false,
    "ExecuteTime": {
     "end_time": "2024-04-11T09:41:58.550397Z",
     "start_time": "2024-04-11T09:41:58.505374Z"
    }
   },
   "id": "ca8eb96c74d354a6",
   "execution_count": 1383
  },
  {
   "cell_type": "code",
   "outputs": [],
   "source": [
    "assert len(df.columns) == len(df_fail.columns)"
   ],
   "metadata": {
    "collapsed": false,
    "ExecuteTime": {
     "end_time": "2024-04-11T09:41:58.724234Z",
     "start_time": "2024-04-11T09:41:58.722475Z"
    }
   },
   "id": "802c12da3bd97552",
   "execution_count": 1384
  },
  {
   "cell_type": "code",
   "outputs": [],
   "source": [
    "title = f\"Simulation indicators time series: interactive line plot <br><sup>City: San Francisco, Scenario: {fail}, Hour: {hour}</sup>\"\n",
    "\n",
    "save_path = 'html_plots/' + fail + '_' + hour + '.html'\n",
    "fig = px.line(df_fail[3600:-1200], x = df_fail[3600:-1200].index, y = df_fail[3600:-1200].columns, title = title)\n",
    "fig.update_layout(legend_title_text = 'Indicators')\n",
    "fig.write_html(save_path)"
   ],
   "metadata": {
    "collapsed": false,
    "ExecuteTime": {
     "end_time": "2024-04-11T09:41:59.178522Z",
     "start_time": "2024-04-11T09:41:58.941401Z"
    }
   },
   "id": "691adb745a72533e",
   "execution_count": 1385
  },
  {
   "cell_type": "code",
   "outputs": [],
   "source": [
    "title = f\"Simulation indicators time series: interactive line plot <br><sup>City: San Francisco, Scenario: normal</sup>\"\n",
    "\n",
    "save_path = 'html_plots/normal.html'\n",
    "fig = px.line(df[3600:-1200], x = df[3600:-1200].index, y = df[3600:-1200].columns, title = title)\n",
    "fig.update_layout(legend_title_text = 'Indicators')\n",
    "fig.write_html(save_path)"
   ],
   "metadata": {
    "collapsed": false,
    "ExecuteTime": {
     "end_time": "2024-04-11T09:42:00.857618Z",
     "start_time": "2024-04-11T09:41:59.179572Z"
    }
   },
   "id": "a1a2c8e7f46754de",
   "execution_count": 1386
  },
  {
   "cell_type": "markdown",
   "source": [
    "# Preprocessing"
   ],
   "metadata": {
    "collapsed": false
   },
   "id": "30e01ba722662905"
  },
  {
   "cell_type": "code",
   "outputs": [
    {
     "name": "stdout",
     "output_type": "stream",
     "text": [
      "(86400, 39)\n",
      "(9900, 39)\n"
     ]
    }
   ],
   "source": [
    "# Preprocessing parameters\n",
    "params = [\n",
    "    False, # ratio\n",
    "    False, # smoothing\n",
    "    False, # collinearity\n",
    "    False, # log\n",
    "    300, # aggregation\n",
    "    False, # statistics\n",
    "    1, # differencing\n",
    "    False, # seasonality\n",
    "    True # normalize\n",
    "]\n",
    "scaler_path = f\"df_{params[0]}_{params[1]}_{params[2]}_{params[3]}_{params[4]}_{params[5]}_{params[6]}_{params[7]}_{params[8]}\"\n",
    "\n",
    "df_ = copy.deepcopy(df)\n",
    "df_fail_ = copy.deepcopy(df_fail)\n",
    "\n",
    "# Apply same preprocessing to train and test\n",
    "df_proc, scaler = preprocessing(df_,\n",
    "                        ratio = params[0],\n",
    "                        smoothing = params[1],\n",
    "                        collinearity = params[2],\n",
    "                        log = params[3],\n",
    "                        aggregation = params[4],\n",
    "                        statistics = params[5],\n",
    "                        differencing = params[6],\n",
    "                        seasonality = params[7],\n",
    "                        normalize = params[8],\n",
    "                        load_scaler = False,\n",
    "                        save = False)\n",
    "df_proc_fail, scaler_ = preprocessing(df_fail_,\n",
    "                               ratio = params[0],\n",
    "                               smoothing = params[1],\n",
    "                               collinearity = params[2],\n",
    "                               log = params[3],\n",
    "                               aggregation = params[4],\n",
    "                               statistics = params[5],\n",
    "                               differencing = params[6],\n",
    "                               seasonality = params[7],\n",
    "                               normalize = params[8],\n",
    "                               load_scaler = True,\n",
    "                               save = False)"
   ],
   "metadata": {
    "collapsed": false,
    "ExecuteTime": {
     "end_time": "2024-04-11T09:42:01.005291Z",
     "start_time": "2024-04-11T09:42:00.858684Z"
    }
   },
   "id": "8bcafe4ea456f7a0",
   "execution_count": 1387
  },
  {
   "cell_type": "markdown",
   "source": [
    "# Preparation"
   ],
   "metadata": {
    "collapsed": false
   },
   "id": "e6a82a358a6596f3"
  },
  {
   "cell_type": "code",
   "outputs": [
    {
     "name": "stdout",
     "output_type": "stream",
     "text": [
      "(4320, 20, 39)\n",
      "(495, 20, 39)\n"
     ]
    }
   ],
   "source": [
    "train_set = preparation(df_proc,\n",
    "                        window_size = 20,\n",
    "                        overlap = 0,\n",
    "                        val_hours = 0)\n",
    "test_set_fail = preparation(df_proc_fail,\n",
    "                            window_size = 20,\n",
    "                            overlap = 0,\n",
    "                            val_hours = 0)"
   ],
   "metadata": {
    "collapsed": false,
    "ExecuteTime": {
     "end_time": "2024-04-11T09:42:01.046949Z",
     "start_time": "2024-04-11T09:42:01.006085Z"
    }
   },
   "id": "5215b0ff0fa83829",
   "execution_count": 1388
  },
  {
   "cell_type": "markdown",
   "source": [
    "# Modeling"
   ],
   "metadata": {
    "collapsed": false
   },
   "id": "d88adf559b004316"
  },
  {
   "cell_type": "code",
   "outputs": [],
   "source": [
    "# Training\n",
    "if to_train:\n",
    "    history, model = training_lstm(train_set,\n",
    "                                   None,\n",
    "                                   n_layers_encoder = 1,\n",
    "                                   n_layers_decoder = 1,\n",
    "                                   hidden_units = [128, 64, 64, 128],\n",
    "                                   activation_hidden = 'tanh',\n",
    "                                   activation_dense = 'sigmoid',\n",
    "                                   dropout_rate = 0,\n",
    "                                   learning_rate = 0.001,\n",
    "                                   n_epochs = 500,\n",
    "                                   metric = 'mse',\n",
    "                                   batch_size = 64,\n",
    "                                   window_size = 20,\n",
    "                                   plot = True,\n",
    "                                   save = True)\n",
    "    \n",
    "    # Predicting training set\n",
    "    original, reconstructed = predict(model, train_set, scaler_path, recurrent = True)\n",
    "    \n",
    "    # Save plots and df\n",
    "    num_features = min(train_set.shape[2], len(df.columns))\n",
    "    mae = save_predict_plots(original, reconstructed, df.columns, num_features, scaler_path, model_type = 'lstm', plot = False, compute_df = True)\n",
    "    \n",
    "else:\n",
    "    model_path = 'models/lstm/1_1_128_128_tanh_sigmoid_0_0001_500_mse_64.pkl'\n",
    "    with open(model_path, 'rb') as file:\n",
    "        model = pickle.load(file)"
   ],
   "metadata": {
    "collapsed": false,
    "ExecuteTime": {
     "end_time": "2024-04-11T09:42:01.896503Z",
     "start_time": "2024-04-11T09:42:01.617259Z"
    }
   },
   "id": "18d16ea90baefdfe",
   "execution_count": 1389
  },
  {
   "cell_type": "markdown",
   "source": [
    "# Predicting failure"
   ],
   "metadata": {
    "collapsed": false
   },
   "id": "543f36a6c1730284"
  },
  {
   "cell_type": "code",
   "outputs": [],
   "source": [
    "# Setting percentile threshold for the reconstruction error\n",
    "if to_train:\n",
    "    percentile_99 = 0.99\n",
    "    mae_df = pd.read_csv(\"predictions/lstm/lstm_mae.csv\")\n",
    "    mae_99 = mae_df.quantile(percentile_99)\n",
    "    mae_99_df = mae_99.reset_index().rename(columns = {'index': 'indicators', percentile_99: 'thresholds'})\n",
    "    mae_99_df.to_csv('metrics/mae_99.csv', index = False)\n",
    "else:\n",
    "    mae_99_df = pd.read_csv(\"metrics/mae_99.csv\").dropna().reset_index(drop = True)"
   ],
   "metadata": {
    "collapsed": false,
    "ExecuteTime": {
     "end_time": "2024-04-11T09:42:02.385485Z",
     "start_time": "2024-04-11T09:42:02.380510Z"
    }
   },
   "id": "84743aed1a9207d1",
   "execution_count": 1390
  },
  {
   "cell_type": "code",
   "outputs": [
    {
     "name": "stdout",
     "output_type": "stream",
     "text": [
      "16/16 [==============================] - 1s 8ms/step\n",
      "Mean MAE: 0       0.013692\n",
      "1       0.015656\n",
      "2       0.016068\n",
      "3       0.015345\n",
      "4        0.01522\n",
      "          ...   \n",
      "9895    0.040087\n",
      "9896    0.040521\n",
      "9897    0.039058\n",
      "9898    0.039982\n",
      "9899    0.040666\n",
      "Length: 9900, dtype: object\n"
     ]
    }
   ],
   "source": [
    "# Predicting test dataset\n",
    "original, reconstructed = predict(model, test_set_fail, scaler_path, recurrent = True)\n",
    "\n",
    "# Save plots and df\n",
    "num_features = min(test_set_fail.shape[2], len(df_proc_fail.columns))\n",
    "mae = save_predict_plots(original, reconstructed, df_proc_fail.columns, num_features, scaler_path, model_type = 'lstm_fail', plot = False, compute_df = True)"
   ],
   "metadata": {
    "collapsed": false,
    "ExecuteTime": {
     "end_time": "2024-04-11T09:42:41.680869Z",
     "start_time": "2024-04-11T09:42:02.789366Z"
    }
   },
   "id": "f89ee3293c00afe2",
   "execution_count": 1391
  },
  {
   "cell_type": "code",
   "outputs": [],
   "source": [
    "# Loading metrics datasets\n",
    "mae_fail_df = pd.read_csv(\"predictions/lstm_fail/lstm_fail_mae.csv\")\n",
    "mae_fail_df = mae_fail_df[320:].dropna().reset_index(drop = True)\n",
    "#rmse_fail_df = pd.read_csv(\"predictions/lstm_fail/lstm_fail_rmse.csv\")\n",
    "#rmse_fail_df = rmse_fail_df[320:].dropna().reset_index(drop = True)\n",
    "\n",
    "# Computing failed_requests index\n",
    "df_fail = pd.read_csv(data_path_fail)\n",
    "df_fail = df_fail.drop('timestamp', axis = 1)\n",
    "for column in df_fail.columns:\n",
    "    df_fail[column] = np.around(df_fail[column].astype(float), 5)\n",
    "    df_fail[column] = df_fail[column].rolling(window = 300).mean()\n",
    "df_fail = df_fail[3600:-900].reset_index(drop = True)\n",
    "failed_requests_fail = [0] * len(df_fail)\n",
    "w_failed_requests_fail = [0] * len(df_fail)\n",
    "factor = df['rides_requested'].mean()\n",
    "for i in range(0, len(df_fail)):\n",
    "    if df_fail['rides_requested'][i] == 0:\n",
    "        failed = 0\n",
    "        w_failed = 0\n",
    "    else:\n",
    "        failed, w_failed = compute_failed_requests(float(df_fail['rides_not_served'][i]) + float(df_fail['rides_canceled'][i]), float(df_fail['rides_requested'][i]), factor)\n",
    "    failed_requests_fail[i] = failed\n",
    "    w_failed_requests_fail[i] = w_failed\n",
    "    \n",
    "# Setting thresholds\n",
    "failed_requests_fail = pd.Series(failed_requests_fail)\n",
    "threshold = 0.5\n",
    "green_line_timestamp = 0\n",
    "#exceed_indexes = failed_requests_fail[failed_requests_fail >= threshold]\n",
    "for i in range(3600, len(failed_requests_fail) - 20 + 1):\n",
    "    window = failed_requests_fail[i:i+20]\n",
    "    # Calculate the percentage of observations >= threshold\n",
    "    percentage = sum(value >= threshold for value in window) / 20\n",
    "    if percentage >= threshold:\n",
    "        # Return the index of the first observation in the window meeting the criteria\n",
    "        green_line_timestamp = window.index[0]\n",
    "        break"
   ],
   "metadata": {
    "collapsed": false,
    "ExecuteTime": {
     "end_time": "2024-04-11T09:42:41.858706Z",
     "start_time": "2024-04-11T09:42:41.681929Z"
    }
   },
   "id": "f210ddfa33c312b3",
   "execution_count": 1392
  },
  {
   "cell_type": "code",
   "outputs": [
    {
     "data": {
      "text/plain": "<Figure size 1200x800 with 1 Axes>",
      "image/png": "[encoded data removed]"
     },
     "metadata": {},
     "output_type": "display_data"
    },
    {
     "name": "stdout",
     "output_type": "stream",
     "text": [
      "Failure (50%) predicted 1615 timestamps in advance.\n"
     ]
    }
   ],
   "source": [
    "# Plot final results (MAE)\n",
    "plt.rcParams[\"figure.figsize\"] = (12, 8)\n",
    "plt.rcParams.update({'font.size': 14})\n",
    "\n",
    "mean_normalized_errors = pd.DataFrame(index = mae_fail_df.index)\n",
    "normalized_thresholds_99 = []\n",
    "\n",
    "for indicator in mae_fail_df.columns:\n",
    "    errors = mae_fail_df[indicator]\n",
    "    if errors.std() == 0:\n",
    "        stdev_err = 1\n",
    "    else:\n",
    "        stdev_err = errors.std()\n",
    "    \n",
    "    # Normalize errors\n",
    "    normalized_errors = (errors - errors.mean()) / stdev_err\n",
    "    mean_normalized_errors[indicator] = normalized_errors\n",
    "    \n",
    "    # Normalize the threshold\n",
    "    threshold = mae_99_df[mae_99_df['indicators'] == indicator]['thresholds'].values[0]\n",
    "    normalized_threshold = (threshold - errors.mean()) / stdev_err\n",
    "    normalized_thresholds_99.append(normalized_threshold)\n",
    "\n",
    "mean_normalized_threshold_99 = np.mean(normalized_thresholds_99)\n",
    "mean_normalized_errors['mean_error'] = mean_normalized_errors.mean(axis = 1)\n",
    "exceeds_threshold_filtered_99 = mean_normalized_errors[mean_normalized_errors.index >= 3000]['mean_error'] > mean_normalized_threshold_99\n",
    "first_exceed_timestamp_99 = exceeds_threshold_filtered_99.idxmax() if exceeds_threshold_filtered_99.any() else None\n",
    "timestamp_difference_50 = 0\n",
    "#timestamp_difference_70 = 0\n",
    "#timestamp_difference_90 = 0\n",
    "try:\n",
    "    if first_exceed_timestamp_99:\n",
    "        if green_line_timestamp != 0:\n",
    "            timestamp_difference_50 = green_line_timestamp - first_exceed_timestamp_99\n",
    "        else:\n",
    "            timestamp_difference_50 = 0\n",
    "        #if len(green_line_timestamps) > 1:\n",
    "        #    timestamp_difference_70 = green_line_timestamps[1] - first_exceed_timestamp_99\n",
    "        #if len(green_line_timestamps) > 2:\n",
    "        #    timestamp_difference_90 = green_line_timestamps[2] - first_exceed_timestamp_99\n",
    "    \n",
    "    plt.figure()\n",
    "    plt.plot(mean_normalized_errors.index, mean_normalized_errors['mean_error'], label = 'Mean normalized error')\n",
    "    plt.axhline(y = mean_normalized_threshold_99, color = 'red', linestyle = '--', label = f'Reconstruction error threshold')\n",
    "    if green_line_timestamp != 0:\n",
    "        plt.axvline(x = green_line_timestamp, color = 'green', label = 'Index threshold')\n",
    "    plt.axvline(x = 3280, color = 'blue', label = 'Failure injection')\n",
    "    plt.title('Mean normalized reconstruction error over time (MAE)')\n",
    "    plt.xlabel('Timestamp')\n",
    "    plt.ylabel('Mean normalized MAE values')\n",
    "    handles, labels = plt.gca().get_legend_handles_labels()\n",
    "    by_label = dict(zip(labels, handles))\n",
    "    plt.legend(by_label.values(), by_label.keys())\n",
    "    plt.tight_layout()\n",
    "    plt.savefig('results/' + fail + '_' + hour + '_MAE_' + str(timestamp_difference_50) + '.png', dpi = 300)\n",
    "    plt.show()\n",
    "    \n",
    "    if timestamp_difference_50 > 0:\n",
    "        print(f\"Failure (50%) predicted {timestamp_difference_50} timestamps in advance.\")\n",
    "    elif timestamp_difference_50 == 0:\n",
    "        print(f\"Failure not predicted\")\n",
    "    else:\n",
    "        print(f\"Failure (50%) predicted {timestamp_difference_50} timestamps late.\")\n",
    "except:\n",
    "    print(\"Not a failure\")"
   ],
   "metadata": {
    "collapsed": false,
    "ExecuteTime": {
     "end_time": "2024-04-11T09:42:42.525115Z",
     "start_time": "2024-04-11T09:42:41.859354Z"
    }
   },
   "id": "9d6e85a8ff8c269c",
   "execution_count": 1393
  },
  {
   "cell_type": "code",
   "outputs": [],
   "source": [
    "'''\n",
    "# Plot final results (RMSE)\n",
    "plt.rcParams[\"figure.figsize\"] = (12, 8)\n",
    "plt.rcParams.update({'font.size': 14})\n",
    "\n",
    "mean_normalized_errors = pd.DataFrame(index = rmse_fail_df.index)\n",
    "normalized_thresholds_99 = []\n",
    "\n",
    "for indicator in rmse_fail_df.columns:\n",
    "    errors = rmse_fail_df[indicator]\n",
    "    if errors.std() == 0:\n",
    "        stdev_err = 1\n",
    "    else:\n",
    "        stdev_err = errors.std()\n",
    "    \n",
    "    # Normalize errors\n",
    "    normalized_errors = (errors - errors.mean()) / stdev_err\n",
    "    mean_normalized_errors[indicator] = normalized_errors\n",
    "    \n",
    "    # Normalize the threshold\n",
    "    threshold = rmse_99_df[rmse_99_df['indicators'] == indicator]['thresholds'].values[0]\n",
    "    normalized_threshold = (threshold - errors.mean()) / stdev_err\n",
    "    normalized_thresholds_99.append(normalized_threshold)\n",
    "\n",
    "mean_normalized_threshold_99 = np.mean(normalized_thresholds_99)\n",
    "mean_normalized_errors['mean_error'] = mean_normalized_errors.mean(axis = 1)\n",
    "exceeds_threshold_filtered_99 = mean_normalized_errors[mean_normalized_errors.index >= 3000]['mean_error'] > mean_normalized_threshold_99\n",
    "first_exceed_timestamp_99 = exceeds_threshold_filtered_99.idxmax() if exceeds_threshold_filtered_99.any() else None\n",
    "timestamp_difference_50 = 0\n",
    "#timestamp_difference_70 = 0\n",
    "#timestamp_difference_90 = 0\n",
    "try:\n",
    "    if first_exceed_timestamp_99:\n",
    "        timestamp_difference_50 = green_line_timestamps[0] - first_exceed_timestamp_99\n",
    "        #if len(green_line_timestamps) > 1:\n",
    "        #    timestamp_difference_70 = green_line_timestamps[1] - first_exceed_timestamp_99\n",
    "        #if len(green_line_timestamps) > 2:\n",
    "        #    timestamp_difference_90 = green_line_timestamps[2] - first_exceed_timestamp_99\n",
    "    \n",
    "    plt.figure()\n",
    "    plt.plot(mean_normalized_errors.index, mean_normalized_errors['mean_error'], label = 'Mean normalized error')\n",
    "    plt.axhline(y = mean_normalized_threshold_99, color = 'red', linestyle = '--', label = f'Reconstruction error threshold')\n",
    "    plt.axvline(x = green_line_timestamp, color = 'green', label = 'Index threshold')\n",
    "    plt.title('Mean normalized reconstruction error over time (RMSE)')\n",
    "    plt.xlabel('Timestamp')\n",
    "    plt.ylabel('Mean normalized RMSE values')\n",
    "    handles, labels = plt.gca().get_legend_handles_labels()\n",
    "    by_label = dict(zip(labels, handles))\n",
    "    plt.legend(by_label.values(), by_label.keys())\n",
    "    plt.tight_layout()\n",
    "    plt.savefig('results/' + fail + '_' + hour + '_RMSE_' + str(timestamp_difference_50) + '.png', dpi = 300)\n",
    "    plt.show()\n",
    "    \n",
    "    if timestamp_difference_50 > 0:\n",
    "        print(f\"Failure (50%) predicted {timestamp_difference_50} timestamps in advance.\")\n",
    "    else:\n",
    "        print(f\"Failure not predicted\")\n",
    "except:\n",
    "    print(\"Not a failure\")\n",
    "'''"
   ],
   "metadata": {
    "collapsed": false
   },
   "id": "965866be42b961a6"
  },
  {
   "cell_type": "code",
   "outputs": [
    {
     "data": {
      "text/plain": "'\\n# Plot final results (MAPE)\\nplt.rcParams[\"figure.figsize\"] = (12, 8)\\nplt.rcParams.update({\\'font.size\\': 14})\\n\\nmean_normalized_errors = pd.DataFrame(index = mape_fail_df.index)\\nnormalized_thresholds_99 = []\\n\\nfor indicator in mape_fail_df.columns:\\n    errors = mape_fail_df[indicator]\\n    if errors.std() == 0:\\n        stdev_err = 1\\n    else:\\n        stdev_err = errors.std()\\n    \\n    # Normalize errors\\n    normalized_errors = (errors - errors.mean()) / stdev_err\\n    mean_normalized_errors[indicator] = normalized_errors\\n    \\n    # Normalize the threshold\\n    threshold = mape_99_df[mape_99_df[\\'indicators\\'] == indicator][\\'thresholds\\'].values[0]\\n    normalized_threshold = (threshold - errors.mean()) / stdev_err\\n    normalized_thresholds_99.append(normalized_threshold)\\n\\nmean_normalized_threshold_99 = np.mean(normalized_thresholds_99)\\nmean_normalized_errors[\\'mean_error\\'] = mean_normalized_errors.mean(axis = 1)\\nexceeds_threshold_filtered_99 = mean_normalized_errors[mean_normalized_errors.index >= 3000][\\'mean_error\\'] > mean_normalized_threshold_99\\nfirst_exceed_timestamp_99 = exceeds_threshold_filtered_99.idxmax() if exceeds_threshold_filtered_99.any() else None\\ntimestamp_difference_50 = 0\\n#timestamp_difference_70 = 0\\n#timestamp_difference_90 = 0\\ntry:\\n    if first_exceed_timestamp_99:\\n        timestamp_difference_50 = green_line_timestamps[0] - first_exceed_timestamp_99\\n        #if len(green_line_timestamps) > 1:\\n        #    timestamp_difference_70 = green_line_timestamps[1] - first_exceed_timestamp_99\\n        #if len(green_line_timestamps) > 2:\\n        #    timestamp_difference_90 = green_line_timestamps[2] - first_exceed_timestamp_99\\n    \\n    plt.figure()\\n    plt.plot(mean_normalized_errors.index, mean_normalized_errors[\\'mean_error\\'], label = \\'Mean normalized error\\')\\n    plt.axhline(y = mean_normalized_threshold_99, color = \\'red\\', linestyle = \\'--\\', label = f\\'Reconstruction error threshold\\')\\n    plt.axvline(x = green_line_timestamp, color = \\'green\\', label = \\'Index threshold\\')\\n    plt.title(\\'Mean normalized reconstruction error over time (MAPE)\\')\\n    plt.xlabel(\\'Timestamp\\')\\n    plt.ylabel(\\'Mean normalized RMSE values\\')\\n    handles, labels = plt.gca().get_legend_handles_labels()\\n    by_label = dict(zip(labels, handles))\\n    plt.legend(by_label.values(), by_label.keys())\\n    plt.tight_layout()\\n    plt.savefig(\\'results/\\' + fail + \\'_\\' + hour + \\'_MAPE_\\' + str(timestamp_difference_50) + \\'.png\\', dpi = 300)\\n    plt.show()\\n    \\n    if timestamp_difference_50 > 0:\\n        print(f\"Failure (50%) predicted {timestamp_difference_50} timestamps in advance.\")\\n    else:\\n        print(f\"Failure not predicted\")\\nexcept:\\n    print(\"Not a failure\")\\n'"
     },
     "execution_count": 1208,
     "metadata": {},
     "output_type": "execute_result"
    }
   ],
   "source": [
    "'''\n",
    "# Plot final results (MAPE)\n",
    "plt.rcParams[\"figure.figsize\"] = (12, 8)\n",
    "plt.rcParams.update({'font.size': 14})\n",
    "\n",
    "mean_normalized_errors = pd.DataFrame(index = mape_fail_df.index)\n",
    "normalized_thresholds_99 = []\n",
    "\n",
    "for indicator in mape_fail_df.columns:\n",
    "    errors = mape_fail_df[indicator]\n",
    "    if errors.std() == 0:\n",
    "        stdev_err = 1\n",
    "    else:\n",
    "        stdev_err = errors.std()\n",
    "    \n",
    "    # Normalize errors\n",
    "    normalized_errors = (errors - errors.mean()) / stdev_err\n",
    "    mean_normalized_errors[indicator] = normalized_errors\n",
    "    \n",
    "    # Normalize the threshold\n",
    "    threshold = mape_99_df[mape_99_df['indicators'] == indicator]['thresholds'].values[0]\n",
    "    normalized_threshold = (threshold - errors.mean()) / stdev_err\n",
    "    normalized_thresholds_99.append(normalized_threshold)\n",
    "\n",
    "mean_normalized_threshold_99 = np.mean(normalized_thresholds_99)\n",
    "mean_normalized_errors['mean_error'] = mean_normalized_errors.mean(axis = 1)\n",
    "exceeds_threshold_filtered_99 = mean_normalized_errors[mean_normalized_errors.index >= 3000]['mean_error'] > mean_normalized_threshold_99\n",
    "first_exceed_timestamp_99 = exceeds_threshold_filtered_99.idxmax() if exceeds_threshold_filtered_99.any() else None\n",
    "timestamp_difference_50 = 0\n",
    "#timestamp_difference_70 = 0\n",
    "#timestamp_difference_90 = 0\n",
    "try:\n",
    "    if first_exceed_timestamp_99:\n",
    "        timestamp_difference_50 = green_line_timestamps[0] - first_exceed_timestamp_99\n",
    "        #if len(green_line_timestamps) > 1:\n",
    "        #    timestamp_difference_70 = green_line_timestamps[1] - first_exceed_timestamp_99\n",
    "        #if len(green_line_timestamps) > 2:\n",
    "        #    timestamp_difference_90 = green_line_timestamps[2] - first_exceed_timestamp_99\n",
    "    \n",
    "    plt.figure()\n",
    "    plt.plot(mean_normalized_errors.index, mean_normalized_errors['mean_error'], label = 'Mean normalized error')\n",
    "    plt.axhline(y = mean_normalized_threshold_99, color = 'red', linestyle = '--', label = f'Reconstruction error threshold')\n",
    "    plt.axvline(x = green_line_timestamp, color = 'green', label = 'Index threshold')\n",
    "    plt.title('Mean normalized reconstruction error over time (MAPE)')\n",
    "    plt.xlabel('Timestamp')\n",
    "    plt.ylabel('Mean normalized MAPE values')\n",
    "    handles, labels = plt.gca().get_legend_handles_labels()\n",
    "    by_label = dict(zip(labels, handles))\n",
    "    plt.legend(by_label.values(), by_label.keys())\n",
    "    plt.tight_layout()\n",
    "    plt.savefig('results/' + fail + '_' + hour + '_MAPE_' + str(timestamp_difference_50) + '.png', dpi = 300)\n",
    "    plt.show()\n",
    "    \n",
    "    if timestamp_difference_50 > 0:\n",
    "        print(f\"Failure (50%) predicted {timestamp_difference_50} timestamps in advance.\")\n",
    "    else:\n",
    "        print(f\"Failure not predicted\")\n",
    "except:\n",
    "    print(\"Not a failure\")\n",
    "'''"
   ],
   "metadata": {
    "collapsed": false,
    "ExecuteTime": {
     "end_time": "2024-04-11T08:24:52.353770Z",
     "start_time": "2024-04-11T08:24:52.350525Z"
    }
   },
   "id": "69968e740f2b2d0c",
   "execution_count": 1208
  }
 ],
 "metadata": {
  "kernelspec": {
   "display_name": "Python 3",
   "language": "python",
   "name": "python3"
  },
  "language_info": {
   "codemirror_mode": {
    "name": "ipython",
    "version": 2
   },
   "file_extension": ".py",
   "mimetype": "text/x-python",
   "name": "python",
   "nbconvert_exporter": "python",
   "pygments_lexer": "ipython2",
   "version": "2.7.6"
  }
 },
 "nbformat": 4,
 "nbformat_minor": 5
}
