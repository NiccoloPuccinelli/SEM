{
 "cells": [
  {
   "cell_type": "code",
   "execution_count": null,
   "id": "initial_id",
   "metadata": {
    "collapsed": true
   },
   "outputs": [],
   "source": [
    "import copy\n",
    "import os\n",
    "import numpy as np\n",
    "import pandas as pd\n",
    "import csv\n",
    "import matplotlib.pyplot as plt\n",
    "from scipy import stats\n",
    "import pickle\n",
    "from math import sqrt\n",
    "\n",
    "import tensorflow as tf\n",
    "from tensorflow.keras.models import Model\n",
    "from tensorflow.keras.layers import Input, LSTM, RepeatVector\n",
    "from tensorflow.keras.layers import Dense, Flatten, Reshape, Dropout\n",
    "from tensorflow.keras.optimizers.legacy import Adam\n",
    "\n",
    "from sklearn.metrics import accuracy_score, precision_score, recall_score, mean_absolute_error, mean_squared_error, mean_absolute_percentage_error\n",
    "from sklearn.model_selection import train_test_split\n",
    "from sklearn.preprocessing import MinMaxScaler\n",
    "from sklearn.preprocessing import StandardScaler"
   ]
  },
  {
   "cell_type": "code",
   "outputs": [],
   "source": [
    "%run utils.ipynb"
   ],
   "metadata": {
    "collapsed": false
   },
   "id": "4c8aef465851a358"
  },
  {
   "cell_type": "code",
   "outputs": [],
   "source": [
    "def predict(model, to_predict, scaler_path = '', recurrent = True):\n",
    "    \n",
    "    original_features = to_predict\n",
    "    reconstructed_features = model.predict(to_predict)\n",
    "    # If we're dealing with LSTM\n",
    "    if recurrent:\n",
    "        reconstructed_features = reconstructed_features.reshape(-1, to_predict.shape[2])\n",
    "        original_features = original_features.reshape(-1, to_predict.shape[2])\n",
    "    if scaler_path.endswith('_True'):\n",
    "        with open('scalers/' + scaler_path + '.pkl', 'rb') as file:\n",
    "            scaler = pickle.load(file)\n",
    "        original_features = scaler.inverse_transform(original_features)\n",
    "        reconstructed_features = scaler.inverse_transform(reconstructed_features)\n",
    "        \n",
    "    return original_features, reconstructed_features"
   ],
   "metadata": {
    "collapsed": false
   },
   "id": "71142eee3dbbefeb"
  },
  {
   "cell_type": "code",
   "outputs": [],
   "source": [
    "def save_predict_plots(original_features, reconstructed_features, columns, num_features, name, model_type, plot = True, compute_df = False):\n",
    "    \n",
    "    mae_list = []\n",
    "    #rmse_list = []\n",
    "    #mape_list = []\n",
    "    \n",
    "    # Compute df where to save metrics\n",
    "    if compute_df:\n",
    "        mae_df = pd.DataFrame(index = range(original_features.shape[0]), columns = columns[:num_features])\n",
    "        #rmse_df = pd.DataFrame(index = range(original_features.shape[0]), columns = columns[:num_features])\n",
    "        #mape_df = pd.DataFrame(index = range(original_features.shape[0]), columns = columns[:num_features])\n",
    "\n",
    "    for column in range(len(columns)):\n",
    "        if column < num_features:\n",
    "            if compute_df:\n",
    "                for timestamp in range(original_features.shape[0]):\n",
    "                    y_true = original_features[timestamp, column]\n",
    "                    y_pred = reconstructed_features[timestamp, column]\n",
    "                    mae = mean_absolute_error([y_true], [y_pred])\n",
    "                    #rmse = sqrt(mean_squared_error([y_true], [y_pred]))\n",
    "                    #mape = custom_mape(np.array([y_true]), np.array([y_pred]))\n",
    "                    mae_df.iloc[timestamp, column] = mae\n",
    "                    #rmse_df.iloc[timestamp, column] = rmse\n",
    "                    #mape_df.iloc[timestamp, column] = mape\n",
    "            else:        \n",
    "                mae = mean_absolute_error(original_features[column], reconstructed_features[column])\n",
    "                #rmse = sqrt(mean_squared_error(original_features[column], reconstructed_features[column]))\n",
    "                #mape = custom_mape(original_features[column], reconstructed_features[column])\n",
    "                mae_list.append(mae)\n",
    "                #rmse_list.append(rmse)\n",
    "                #mape_list.append(mape)\n",
    "            # Plot predictions\n",
    "            if plot:\n",
    "                plt.figure(figsize = (10, 6))\n",
    "                plt.plot(original_features[:, column], label = 'Original Features')\n",
    "                plt.plot(reconstructed_features[:, column], label = 'Reconstructed Features', linestyle = '--')\n",
    "                plt.title(columns[column])\n",
    "                plt.xlabel(\"Time Step\")\n",
    "                plt.ylabel(\"Feature Value\")\n",
    "                plt.legend()\n",
    "                save_path = os.path.join('predictions/', f\"{model_type}/{columns[column]}_{name}.png\")\n",
    "                plt.savefig(save_path, bbox_inches = 'tight')\n",
    "                plt.close()\n",
    "        \n",
    "    if compute_df:\n",
    "        mae_df.to_csv(os.path.join(f\"predictions/{model_type}/{model_type}_mae.csv\"), index = False)\n",
    "        #rmse_df.to_csv(os.path.join(f\"predictions/{model_type}/{model_type}_rmse.csv\"), index = False)\n",
    "        #mape_df.to_csv(os.path.join(f\"predictions/{model_type}/{model_type}_mape.csv\"), index = False)\n",
    "        mae_mean = mae_df.mean(axis = 1)\n",
    "        #rmse_mean = rmse_df.mean(axis = 1)\n",
    "        #mape_mean = mape_df.mean(axis = 1)    \n",
    "    else:\n",
    "        mae_mean = np.around(sum(mae_list) / len(mae_list), 3)\n",
    "        #rmse_mean = np.around(sum(rmse_list) / len(rmse_list), 3)\n",
    "        #mape_mean = np.around(sum(mape_list) / len(mape_list), 3)\n",
    "        \n",
    "    print('Mean MAE: ' + str(mae_mean))\n",
    "    #print('Mean RMSE: ' + str(rmse_mean))\n",
    "    #print('Mean MAPE: ' + str(mape_mean))\n",
    "    \n",
    "    return mae_mean\n",
    "    #return mae_mean, rmse_mean\n",
    "    #return mae_mean, rmse_mean, mape_mean"
   ],
   "metadata": {
    "collapsed": false
   },
   "id": "d8c16f39008b2b28"
  }
 ],
 "metadata": {
  "kernelspec": {
   "display_name": "Python 3",
   "language": "python",
   "name": "python3"
  },
  "language_info": {
   "codemirror_mode": {
    "name": "ipython",
    "version": 2
   },
   "file_extension": ".py",
   "mimetype": "text/x-python",
   "name": "python",
   "nbconvert_exporter": "python",
   "pygments_lexer": "ipython2",
   "version": "2.7.6"
  }
 },
 "nbformat": 4,
 "nbformat_minor": 5
}
