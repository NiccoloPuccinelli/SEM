{
 "cells": [
  {
   "cell_type": "markdown",
   "source": [
    "# Preliminary operations"
   ],
   "metadata": {
    "collapsed": false
   },
   "id": "c93274c9a262c71a"
  },
  {
   "cell_type": "code",
   "outputs": [],
   "source": [
    "import pandas as pd\n",
    "import numpy as np\n",
    "import copy\n",
    "import pickle\n",
    "import os\n",
    "import itertools\n",
    "import glob\n",
    "import plotly.express as px\n",
    "import seaborn as sns\n",
    "import matplotlib.pyplot as plt\n",
    "import warnings\n",
    "\n",
    "from math import sqrt\n",
    "from scipy import stats\n",
    "import statsmodels.api as sm\n",
    "from statsmodels.stats.outliers_influence import variance_inflation_factor\n",
    "from scipy.ndimage import gaussian_filter1d\n",
    "\n",
    "import tensorflow as tf\n",
    "from tensorflow.keras.models import Model\n",
    "from tensorflow.keras.layers import Input, LSTM, RepeatVector\n",
    "from tensorflow.keras.layers import Dense, Flatten, Reshape, Dropout\n",
    "from tensorflow.keras.optimizers.legacy import Adam\n",
    "from tensorflow.keras.callbacks import EarlyStopping\n",
    "\n",
    "from sklearn.metrics import accuracy_score, precision_score, recall_score, mean_absolute_error, mean_squared_error, mean_absolute_percentage_error\n",
    "from sklearn.model_selection import train_test_split\n",
    "from sklearn.preprocessing import MinMaxScaler, StandardScaler\n",
    "\n",
    "seed = 123\n",
    "tf.keras.utils.set_random_seed(seed)\n",
    "df_path_lstm = []"
   ],
   "metadata": {
    "collapsed": false,
    "ExecuteTime": {
     "end_time": "2024-02-14T10:02:07.545424Z",
     "start_time": "2024-02-14T10:02:07.539557Z"
    }
   },
   "id": "de1685c76f1c961e",
   "execution_count": 31
  },
  {
   "cell_type": "code",
   "outputs": [],
   "source": [
    "%run utils.ipynb"
   ],
   "metadata": {
    "collapsed": false,
    "ExecuteTime": {
     "end_time": "2024-02-14T10:02:08.442537Z",
     "start_time": "2024-02-14T10:02:08.428556Z"
    }
   },
   "id": "6e96371231ed4e45",
   "execution_count": 33
  },
  {
   "cell_type": "code",
   "outputs": [],
   "source": [
    "%run preprocessing.ipynb"
   ],
   "metadata": {
    "collapsed": false,
    "ExecuteTime": {
     "end_time": "2024-02-14T10:02:08.633496Z",
     "start_time": "2024-02-14T10:02:08.596115Z"
    }
   },
   "id": "26c6cd7c34c92efc",
   "execution_count": 34
  },
  {
   "cell_type": "code",
   "outputs": [],
   "source": [
    "%run preparation.ipynb"
   ],
   "metadata": {
    "collapsed": false,
    "ExecuteTime": {
     "end_time": "2024-02-14T10:02:08.780886Z",
     "start_time": "2024-02-14T10:02:08.763046Z"
    }
   },
   "id": "368ecf44e77475b2",
   "execution_count": 35
  },
  {
   "cell_type": "code",
   "outputs": [],
   "source": [
    "%run training_lstm.ipynb"
   ],
   "metadata": {
    "collapsed": false,
    "ExecuteTime": {
     "end_time": "2024-02-14T10:02:09.357815Z",
     "start_time": "2024-02-14T10:02:09.343434Z"
    }
   },
   "id": "f5dcf2ed466ecdd5",
   "execution_count": 37
  },
  {
   "cell_type": "code",
   "outputs": [],
   "source": [
    "%run predict.ipynb"
   ],
   "metadata": {
    "collapsed": false,
    "ExecuteTime": {
     "end_time": "2024-02-14T10:02:09.753443Z",
     "start_time": "2024-02-14T10:02:09.738748Z"
    }
   },
   "id": "1bc37357845af436",
   "execution_count": 38
  },
  {
   "cell_type": "code",
   "outputs": [],
   "source": [
    "data_path = 'datasets/raw/sf_normal_final_indicators_93600.csv'\n",
    "df = pd.read_csv(data_path)\n",
    "df = df.drop('timestamp', axis = 1)\n",
    "num_features = len(df.columns)"
   ],
   "metadata": {
    "collapsed": false,
    "ExecuteTime": {
     "end_time": "2024-02-14T10:02:10.321053Z",
     "start_time": "2024-02-14T10:02:10.164340Z"
    }
   },
   "id": "ef8b585fa642d42a",
   "execution_count": 39
  },
  {
   "cell_type": "code",
   "outputs": [
    {
     "data": {
      "text/plain": "Index(['rides_requested', 'rides_canceled', 'rides_not_served',\n       'rides_accepted', 'rides_rejections', 'idle_drivers',\n       'responding_drivers', 'pickup_drivers', 'on_road_drivers',\n       'moving_drivers', 'pending_customers', 'avg_rejections_before_accepted',\n       'avg_surge_multiplier', 'avg_expected_price_per_km',\n       'avg_real_price_per_km', 'avg_diff_price_per_km',\n       'avg_current_error_ride_distance', 'avg_speed_max_speed',\n       'avg_speed_kmh', 'avg_diff_duration_min', 'avg_expected_ride_time_min',\n       'avg_expected_meeting_time_min', 'avg_expected_total_time_min',\n       'avg_ride_time_min', 'avg_meeting_time_min', 'avg_total_time_min',\n       'avg_ride_length_km', 'avg_meeting_length_km', 'avg_total_length_km',\n       'avg_distance_per_timestamp_km', 'avg_remaining_distance_covered'],\n      dtype='object')"
     },
     "execution_count": 40,
     "metadata": {},
     "output_type": "execute_result"
    }
   ],
   "source": [
    "df.columns"
   ],
   "metadata": {
    "collapsed": false,
    "ExecuteTime": {
     "end_time": "2024-02-14T10:02:10.846470Z",
     "start_time": "2024-02-14T10:02:10.822337Z"
    }
   },
   "id": "2eb3c039e32d986d",
   "execution_count": 40
  },
  {
   "cell_type": "code",
   "outputs": [
    {
     "data": {
      "text/plain": "False"
     },
     "execution_count": 44,
     "metadata": {},
     "output_type": "execute_result"
    }
   ],
   "source": [
    "df.isnull().values.any()"
   ],
   "metadata": {
    "collapsed": false,
    "ExecuteTime": {
     "end_time": "2024-02-14T10:02:13.806756Z",
     "start_time": "2024-02-14T10:02:13.778228Z"
    }
   },
   "id": "bf9841a7e9939786",
   "execution_count": 44
  },
  {
   "cell_type": "markdown",
   "source": [
    "# Choosing preprocessing strategy - LSTM"
   ],
   "metadata": {
    "collapsed": false
   },
   "id": "e1d04b6c80114e07"
  },
  {
   "cell_type": "code",
   "source": [
    "ratio_values = [True, False]\n",
    "smoothing_values = [True, False]\n",
    "collinearity_values = [True, False]\n",
    "log_values = [True, False]\n",
    "aggregation_values = [100, 200, 300, 500]  \n",
    "statistics_values = [True, False]\n",
    "differencing_values = [1]\n",
    "seasonality_values = [True, False]\n",
    "normalize_values = [True]\n",
    "\n",
    "# Generate all combinations of parameter values\n",
    "experiments = itertools.product(\n",
    "    ratio_values, smoothing_values, collinearity_values, \n",
    "    log_values, aggregation_values, statistics_values, \n",
    "    differencing_values, seasonality_values, normalize_values\n",
    ")\n",
    "\n",
    "count = 1\n",
    "tot_experiments = len(ratio_values) * len(collinearity_values) * len(log_values) * len(aggregation_values) * len(statistics_values) * len(differencing_values) * len(seasonality_values) * len(normalize_values)\n",
    "warnings.filterwarnings(\"ignore\", category = RuntimeWarning)\n",
    "for combination in experiments:\n",
    "    print(f\"Experiment {count}/{tot_experiments}\")\n",
    "    print(f\"ratio: {combination[0]}, smoothing: {combination[1]}, collinearity: {combination[2]}, log: {combination[3]}, aggregation: {combination[4]}, statistics: {combination[5]}, differencing: {combination[6]}, seasonality: {combination[7]}, normalize: {combination[8]}\")\n",
    "    df_path = ('df_' + str(combination[0]) + '_' + str(combination[1]) + '_' + str(combination[2]) + '_' + str(combination[3]) + '_' + str(combination[4]) + '_' + str(combination[5]) + '_' + str(combination[6]) + '_' + str(combination[7]) + '_' + str(combination[8]))\n",
    "    if df_path not in df_path_lstm:\n",
    "        df_path_lstm.append('datasets/proc/' + df_path + '.csv')\n",
    "        df_ = copy.deepcopy(df)\n",
    "        df_proc = preprocessing(df_,\n",
    "                                ratio = combination[0],\n",
    "                                smoothing = combination[1],\n",
    "                                collinearity = combination[2],\n",
    "                                log = combination[3],\n",
    "                                aggregation = combination[4],\n",
    "                                statistics = combination[5],\n",
    "                                differencing = combination[6],\n",
    "                                seasonality = combination[7],\n",
    "                                normalize = combination[8],\n",
    "                                load_scaler = False,\n",
    "                                save = True)\n",
    "    count += 1"
   ],
   "metadata": {
    "collapsed": false
   },
   "id": "a48bb6a99bae7d40",
   "outputs": [],
   "execution_count": null
  },
  {
   "cell_type": "markdown",
   "source": [
    "## Preparation"
   ],
   "metadata": {
    "collapsed": false
   },
   "id": "2a83299eb5ba6256"
  },
  {
   "cell_type": "code",
   "source": [
    "pattern = os.path.join('datasets/proc', 'df*.csv')\n",
    "csv_files = glob.glob(pattern)\n",
    "data_prep_dict = {}\n",
    "\n",
    "count = 1\n",
    "for file_path in csv_files:\n",
    "    if file_path in df_path_lstm:\n",
    "        print(str(count) + ': ' + file_path)\n",
    "        filename = os.path.basename(file_path).replace('.csv', '')\n",
    "        data_prep =  pd.read_csv(file_path)\n",
    "        data_prep_dict[filename] = preparation(data_prep,\n",
    "                                               window_size = 20,\n",
    "                                               overlap = 0,\n",
    "                                               val_hours = 1.5)\n",
    "        count+=1"
   ],
   "metadata": {
    "collapsed": false
   },
   "id": "f4b917b1c0d4995a",
   "outputs": [],
   "execution_count": null
  },
  {
   "cell_type": "markdown",
   "source": [
    "## Training"
   ],
   "metadata": {
    "collapsed": false
   },
   "id": "5acfab22ae96c569"
  },
  {
   "cell_type": "code",
   "source": [
    "mae_list = []\n",
    "name_list = []\n",
    "\n",
    "csv_file_path = 'processing_metrics_lstm.csv'\n",
    "\n",
    "for name, data_prep in data_prep_dict.items():\n",
    "    # Training\n",
    "    history, model = training_lstm(data_prep[0],\n",
    "                                   data_prep[1],\n",
    "                                   n_layers_encoder = 2,\n",
    "                                   n_layers_decoder = 2,\n",
    "                                   hidden_units = [128, 64, 32, 32, 64, 128],\n",
    "                                   activation_hidden = 'tanh',\n",
    "                                   activation_dense = 'sigmoid',\n",
    "                                   dropout_rate = 0,\n",
    "                                   learning_rate = 0.0001,\n",
    "                                   n_epochs = 500,\n",
    "                                   metric = 'mse',\n",
    "                                   batch_size = 32,\n",
    "                                   window_size = 20,\n",
    "                                   plot = True,\n",
    "                                   save = False)\n",
    "\n",
    "    # Predicting\n",
    "    original, reconstructed = predict(model, data_prep[1], name, recurrent = True)\n",
    "\n",
    "    # Save plots\n",
    "    print(name.replace('df_', '') + ':')\n",
    "    num_features = min(data_prep[1].shape[2], len(df.columns))\n",
    "    mae, rmse, mape = save_predict_plots(original, reconstructed, df.columns, num_features, name, model_type = 'lstm', plot = True, compute_df = False)\n",
    "    mae_list.append(mae)\n",
    "    name_list.append(name.replace('df_', ''))\n",
    "\n",
    "    # Write metrics to csv\n",
    "    metrics_data = {\n",
    "        'Name': [name.replace('df_', '')],\n",
    "        'MAE': [mae]\n",
    "    }\n",
    "    metrics_df = pd.DataFrame(metrics_data)\n",
    "    if os.path.exists(csv_file_path):\n",
    "      metrics_df.to_csv(csv_file_path, mode = 'a', index = False, header = False)\n",
    "    else:\n",
    "      metrics_df.to_csv(csv_file_path, mode = 'w', index = False, header = True)"
   ],
   "metadata": {
    "collapsed": false
   },
   "id": "729675213b3b274",
   "outputs": [],
   "execution_count": null
  },
  {
   "cell_type": "markdown",
   "source": [
    "## Metrics"
   ],
   "metadata": {
    "collapsed": false
   },
   "id": "c85c7ebb429385b"
  },
  {
   "cell_type": "code",
   "source": [
    "metrics = pd.read_csv('processing_metrics_lstm.csv')\n",
    "top_res = min(10, len(metrics))\n",
    "print('Top ' + str(top_res) + ' MAE:')\n",
    "mae_arr = metrics['MAE'].nsmallest(top_res)\n",
    "for i in range(0, top_res):\n",
    "    print(name_list[mae_arr.index[i]] + ': ' + str(mae_arr[mae_arr.index[i]]))"
   ],
   "metadata": {
    "collapsed": false
   },
   "id": "8f7e4273938637d9",
   "outputs": [],
   "execution_count": null
  },
  {
   "cell_type": "markdown",
   "source": [
    "ratio_values = [True, False]\n",
    "smoothing_values = [True, False]\n",
    "collinearity_values = [True, False]\n",
    "log_values = [True, False]\n",
    "aggregation_values = [100, 200, 300, 500]  \n",
    "statistics_values = [True, False]\n",
    "differencing_values = [1]\n",
    "seasonality_values = [True, False]\n",
    "normalize_values = [True]\n",
    "\n",
    "Best combination(s): False_False_False_False_300_False_1_False_True"
   ],
   "metadata": {
    "collapsed": false
   },
   "id": "5fcf8e16073a59cb"
  }
 ],
 "metadata": {
  "kernelspec": {
   "display_name": "Python 3",
   "language": "python",
   "name": "python3"
  },
  "language_info": {
   "codemirror_mode": {
    "name": "ipython",
    "version": 2
   },
   "file_extension": ".py",
   "mimetype": "text/x-python",
   "name": "python",
   "nbconvert_exporter": "python",
   "pygments_lexer": "ipython2",
   "version": "2.7.6"
  }
 },
 "nbformat": 4,
 "nbformat_minor": 5
}
